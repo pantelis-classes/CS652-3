{
  "nbformat": 4,
  "nbformat_minor": 0,
  "metadata": {
    "colab": {
      "name": "CS652_Project3.ipynb",
      "provenance": [],
      "collapsed_sections": [],
      "authorship_tag": "ABX9TyNtwB98dZ1A6svtbDN6WrEG",
      "include_colab_link": true
    },
    "kernelspec": {
      "name": "python3",
      "display_name": "Python 3"
    }
  },
  "cells": [
    {
      "cell_type": "markdown",
      "metadata": {
        "id": "view-in-github",
        "colab_type": "text"
      },
      "source": [
        "<a href=\"https://colab.research.google.com/github/TWBanana/CS652/blob/master/CS652_Project3.ipynb\" target=\"_parent\"><img src=\"https://colab.research.google.com/assets/colab-badge.svg\" alt=\"Open In Colab\"/></a>"
      ]
    },
    {
      "cell_type": "code",
      "metadata": {
        "colab": {
          "base_uri": "https://localhost:8080/"
        },
        "id": "LKyobiEjFr2x",
        "outputId": "fe3f662f-a14d-4056-a7c9-a9d2593da5d3"
      },
      "source": [
        "from google.colab import drive\n",
        "drive.mount('/content/drive')"
      ],
      "execution_count": 1,
      "outputs": [
        {
          "output_type": "stream",
          "text": [
            "Mounted at /content/drive\n"
          ],
          "name": "stdout"
        }
      ]
    },
    {
      "cell_type": "markdown",
      "metadata": {
        "id": "hNcRfwGwUglj"
      },
      "source": [
        "Importing packages."
      ]
    },
    {
      "cell_type": "code",
      "metadata": {
        "id": "W65diEZzazOv"
      },
      "source": [
        "import pickle\n",
        "import random\n",
        "import numpy as np\n",
        "import pandas as pd\n",
        "import seaborn as sb\n",
        "import matplotlib.pyplot as plt\n",
        "from collections import Counter\n",
        "\n",
        "from sklearn.decomposition import PCA\n",
        "from sklearn.utils import class_weight\n",
        "from sklearn.linear_model import LogisticRegression\n",
        "from sklearn.ensemble import RandomForestClassifier\n",
        "from sklearn.model_selection import StratifiedShuffleSplit\n",
        "from sklearn.metrics import log_loss, accuracy_score, roc_auc_score, matthews_corrcoef\n",
        "\n",
        "random.seed(42)\n",
        "np.random.seed(42)\n",
        "random_state = 42"
      ],
      "execution_count": 4,
      "outputs": []
    },
    {
      "cell_type": "markdown",
      "metadata": {
        "id": "ORWWWVDCnqit"
      },
      "source": [
        "* Connecting google drive with colab.\n",
        "* Changing the directory to where the data set is located.\n",
        "* There are several causes in the dataset, the only cause we are going to evaluate is \"DDoS\"."
      ]
    },
    {
      "cell_type": "code",
      "metadata": {
        "id": "uXfmVSdWbuC6"
      },
      "source": [
        "# Global Parameters\n",
        "DATA_FOLDER = \"/content/drive/My Drive/blog_ddos_detection-master/data_100/\"\n",
        "LABEL_FILENAME = \"/content/drive/My Drive/blog_ddos_detection-master/internet_disruptions.tsv\"\n",
        "CAUSES = [\"Natural Disaster\",\n",
        "          \"DDoS\",\n",
        "          \"Power Outage\",\n",
        "          \"BGP Update\",\n",
        "          \"Misconfiguration\",\n",
        "          \"Cable Cut\",\n",
        "          \"none\"]\n",
        "CAUSE_INDEX = 1     # which cause to evaluate\n",
        "DATA_LIMIT = 75     # how many countries/cities/organizations to use (max 100)\n",
        "TRIALS = 50         # trials\n",
        "STEP = 3            # ensures no poisoning of results (DO NOT CHANGE)\n",
        "PCA_DIM = 40        # projection dimension (should be <= DATA_LIMIT)"
      ],
      "execution_count": 5,
      "outputs": []
    },
    {
      "cell_type": "markdown",
      "metadata": {
        "id": "WstbJb69r3Um"
      },
      "source": [
        "* Function to check if the cause is DDoS it will return positive, else return negative.\n",
        "* Make every character into lower case in this column.\n"
      ]
    },
    {
      "cell_type": "code",
      "metadata": {
        "id": "nkZmlUP3b16H"
      },
      "source": [
        "def process_cause(x):\n",
        "    if CAUSES[CAUSE_INDEX].lower() in x.lower():\n",
        "        return \"positive_class\"\n",
        "    return \"negative_class\""
      ],
      "execution_count": 6,
      "outputs": []
    },
    {
      "cell_type": "markdown",
      "metadata": {
        "id": "SsduPwEws_30"
      },
      "source": [
        "**Preprocess the data**\n",
        "\n",
        "* Since we only need two columns of data, \"common name\" and \"cause\".\n",
        "* We'll need to do data cleaning, which is to drop the null value.\n",
        "* We restore the dictionary with some values in \"common name\" starts with \"before_\" and replace it's \"cause\" with \"none\".\n",
        "* Using the function \"process_cause\" to seperate the data into positive_class and negative_class. \n",
        "* Create new list lbl, for every key in the keep_keys, if value in \"common name\" matches key. Then, store this value's index[0], which is \"positive_class\" in the list lbl.\n",
        "* We us the pickle to load the data and seperate into X and list Y list.\n",
        "* Finally, we randomize the data for futhur training and testing."
      ]
    },
    {
      "cell_type": "code",
      "metadata": {
        "id": "6WqlRYUgb8c6"
      },
      "source": [
        "def preprocess_data(data_folder=DATA_FOLDER,\n",
        "                    label_filename=LABEL_FILENAME,\n",
        "                    data_limit=DATA_LIMIT):\n",
        "    nides = pd.read_csv(label_filename, sep=\"\\t\")[[\"common name\", \"cause\"]].dropna()\n",
        "\n",
        "    # If \"before_\" in \"common name\",  store \"cause\" with \"none\".\n",
        "    for key in nides[\"common name\"].values:\n",
        "        nides = nides.append({\"common name\":f\"before_{key}\",\"cause\":\"none\"}, ignore_index=True)\n",
        "\n",
        "    # Using the proceess_cause function to seperate if it's DDoS or not.\n",
        "    nides[\"cause\"] = nides.cause.apply(process_cause)\n",
        "    keep_keys = [key for key,value in Counter(nides.cause.values).items()]\n",
        "    keep_keys = list(nides[nides.cause.isin(keep_keys)][\"common name\"].values.ravel())\n",
        "    nides = nides[nides[\"common name\"].isin(keep_keys)]\n",
        "    \n",
        "    # create new list lbl, and store \"positive_class\" cause.\n",
        "    lbl = [] \n",
        "    for key in keep_keys:\n",
        "        cause = nides[nides[\"common name\"] == key].cause.values[0]\n",
        "        lbl.append(cause)\n",
        "    \n",
        "\n",
        "    y = np.zeros((len(lbl)),dtype=int)\n",
        "    \n",
        "    # Create new list y, for every value in lbl, if value = \"positive_class\", store 1 to y, else store 0.\n",
        "    for i, cause in enumerate(set(lbl)):\n",
        "        y[np.where(np.array(lbl)==cause)[0]] = i\n",
        "    \n",
        "    X = []\n",
        "    Y = []\n",
        "    print(keep_keys)\n",
        "    for i,key in enumerate(sorted(keep_keys)):\n",
        "        try:\n",
        "            tmp = pickle.load(open(f\"{data_folder}{key}_100.attr\", \"rb\"))\n",
        "            [X.append(tmp[j].values.T[:,:data_limit]) for j in range(3)]\n",
        "            [Y.append(y[i]) for j in range(3)]\n",
        "        except Exception as e:\n",
        "            continue\n",
        "\n",
        "    data_full = np.array(X)\n",
        "\n",
        "    data_labels = np.vstack(Y).ravel()\n",
        "\n",
        "    #  Randomize the data for futhur training and testing.\n",
        "    data_pos = data_full[data_labels == 1]\n",
        "    data_neg = data_full[data_labels == 0]\n",
        "    np.random.shuffle(data_pos)\n",
        "    np.random.shuffle(data_neg)\n",
        "    min_len = np.min([len(data_pos), len(data_neg)])\n",
        "    X = np.vstack([data_pos[:min_len], data_neg[:min_len]])\n",
        "    y = np.vstack([np.ones((min_len,1)),np.zeros((min_len,1))])\n",
        "    return X,y"
      ],
      "execution_count": 15,
      "outputs": []
    },
    {
      "cell_type": "markdown",
      "metadata": {
        "id": "__ZkJVAaXTOv"
      },
      "source": [
        "From the result, we can know that the model accuracy is between 80%~100% and the standard diviation is between +6% and -6%. By using this model, the accuratcy of testing the data is 85% and the standard diviation is between +9% and -9%. As the result of both model accuracy and testing performance are high. So, we can say that this testing result is reliable."
      ]
    },
    {
      "cell_type": "code",
      "metadata": {
        "id": "_ziYjbdDcDXB"
      },
      "source": [
        "# Function to display the result and visualization.\n",
        "def display_results(acc_test,auc_test,mcc_test):\n",
        "    print(\"mean +/- std [min, max]\")\n",
        "    print(f\"{np.round(np.mean(acc_test),4)} +/- {np.round(np.std(acc_test),4)} [{np.round(np.min(acc_test),4)}-{np.round(np.max(acc_test),4)}]\")\n",
        "    print(f\"{np.round(np.mean(auc_test),4)} +/- {np.round(np.std(auc_test),4)} [{np.round(np.min(auc_test),4)}-{np.round(np.max(auc_test),4)}]\")\n",
        "    print(f\"{np.round(np.mean(mcc_test),4)} +/- {np.round(np.std(mcc_test),4)} [{np.round(np.min(mcc_test),4)}-{np.round(np.max(mcc_test),4)}]\")\n",
        "\n",
        "    plt.figure(figsize=(15,5))\n",
        "    data = np.hstack([np.array(acc_test)[:,None],np.array(auc_test)[:,None],np.array(mcc_test)[:,None]])\n",
        "    df = pd.DataFrame(data,columns=[\"Test Accuracy\",\"Test AUC\",\"Test Matthew Correlation Coefficient\"])\n",
        "    sb.boxplot(data=df, orient=\"h\")\n",
        "    plt.title(\"Detecting Denial-of-Service Attacks\\nDistribution of Metrics on Test Set\")\n",
        "    plt.show()"
      ],
      "execution_count": null,
      "outputs": []
    },
    {
      "cell_type": "code",
      "metadata": {
        "colab": {
          "base_uri": "https://localhost:8080/",
          "height": 419
        },
        "id": "fqDl29RVSPLO",
        "outputId": "fbf41f1e-f689-446b-acc7-9849329af71c"
      },
      "source": [
        "display_results(acc_test,auc_test,mcc_test)"
      ],
      "execution_count": null,
      "outputs": [
        {
          "output_type": "stream",
          "text": [
            "mean +/- std [min, max]\n",
            "0.8683 +/- 0.0973 [0.5833-1.0]\n",
            "0.9519 +/- 0.0623 [0.7778-1.0]\n",
            "0.7662 +/- 0.1682 [0.3015-1.0]\n"
          ],
          "name": "stdout"
        },
        {
          "output_type": "display_data",
          "data": {
            "image/png": "[encoded data removed]",
            "text/plain": [
              "<Figure size 1080x360 with 1 Axes>"
            ]
          },
          "metadata": {
            "tags": [],
            "needs_background": "light"
          }
        }
      ]
    },
    {
      "cell_type": "markdown",
      "metadata": {
        "id": "IGNA1NQGffxe"
      },
      "source": [
        "**Training and Testing**\n",
        "\n",
        "* Using the function \"preprocess_data\" to get the value store in X and y.\n",
        "* Create three list for storing the results.\n",
        "* First, we seperate the data into training and testing. Then, we apply PCA model to reduce the dimensions of the data into only feature column.\n",
        "* Finally, we apply Random forest model on both training and testing data to get the result."
      ]
    },
    {
      "cell_type": "code",
      "metadata": {
        "id": "a8X_t_QUcUyw"
      },
      "source": [
        "# Start of Evaluation\n",
        "X,y = preprocess_data()\n",
        "\n",
        "auc_test = []\n",
        "acc_test = []\n",
        "mcc_test = []\n",
        "\n",
        "for trial in range(TRIALS):\n",
        "\n",
        "    # split the data into training and testing.\n",
        "    index = list(range(0, len(X), STEP))\n",
        "    indices = list(StratifiedShuffleSplit(n_splits=1, test_size=.15).split(index, y[::STEP]))\n",
        "    train_idx = indices[0][0]\n",
        "    test_idx = indices[0][1]\n",
        "    train_idx = np.array([[index[i], index[i]+1, index[i]+2] for i in train_idx]).ravel()\n",
        "    test_idx = np.array([[index[i], index[i]+1, index[i]+2] for i in test_idx]).ravel()\n",
        "    x_train = X[train_idx]\n",
        "    x_test = X[test_idx]\n",
        "    y_train = y[train_idx].ravel()\n",
        "    y_test = y[test_idx].ravel()\n",
        "\n",
        "    #  Reducing the dimension of data into only feature column.\n",
        "    for i in range(len(x_train)):\n",
        "        x_train[i] = np.divide(x_train[i], np.expand_dims(np.max(x_train[i], axis=-1)+1E-3, axis=-1))\n",
        "    for i in range(len(x_test)):\n",
        "        x_test[i] = np.divide(x_test[i], np.expand_dims(np.max(x_test[i], axis=-1)+1E-3, axis=-1))\n",
        "    x_train = x_train - 0.5\n",
        "    x_test = x_test - 0.5\n",
        "\n",
        "    pca = PCA(n_components=PCA_DIM)\n",
        "    pca.fit(np.squeeze(np.mean(x_train, axis=-1)))\n",
        "    pca_x_train = pca.transform(np.squeeze(np.mean(x_train, axis=-1)))\n",
        "    pca_x_test = pca.transform(np.squeeze(np.mean(x_test, axis=-1)))\n",
        "\n",
        "    print(f\"Baseline 1:  {accuracy_score(y_test, np.zeros(len(y_test)))}\\n\")\n",
        "\n",
        "\n",
        "    # Using random forest package to train and test the model.\n",
        "    model = RandomForestClassifier(n_estimators=1000, max_depth=35)\n",
        "    model.fit(pca_x_train, y_train)\n",
        "\n",
        "    print(f\"Test Accuracy: {accuracy_score(y_test, model.predict(pca_x_test))}\")\n",
        "    print(f\"Test AUC:      {roc_auc_score(y_test, model.predict_proba(pca_x_test)[:,1])}\")\n",
        "    print(f\"Test Log-Loss: {log_loss(y_test, model.predict_proba(pca_x_test)[:,1])}\")\n",
        "    print(f\"Test MCC:      {matthews_corrcoef(y_test, model.predict(pca_x_test))}\\n\")\n",
        "  \n",
        "\n",
        "    acc_test.append(accuracy_score(y_test, model.predict(pca_x_test)))\n",
        "    auc_test.append(roc_auc_score(y_test, model.predict_proba(pca_x_test)[:,1]))\n",
        "    mcc_test.append(matthews_corrcoef(y_test, model.predict(pca_x_test)))"
      ],
      "execution_count": null,
      "outputs": []
    }
  ]
}